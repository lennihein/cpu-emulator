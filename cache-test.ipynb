{
 "cells": [
  {
   "cell_type": "code",
   "execution_count": 1,
   "id": "efae556b-c236-43af-95d0-3891710947de",
   "metadata": {},
   "outputs": [],
   "source": [
    "from cache import Cache, CacheRR, CacheLRU, CacheFIFO\n",
    "\n",
    "def print_cache(cache: Cache) -> None:\n",
    "    \n",
    "    cache_dump = cache.getCacheDump()\n",
    "    num_sets = cache_dump[\"num_sets\"]\n",
    "    num_lines = cache_dump[\"num_lines\"]\n",
    "    line_size = cache_dump[\"line_size\"]\n",
    "    \n",
    "    for i in range(num_sets):\n",
    "        print(\"Set\", i)\n",
    "        for j in range(num_lines):\n",
    "            line = cache_dump[\"sets\"][i][j]\n",
    "            if line[\"tag\"] is None:\n",
    "                print(\"\\tLine not in use\")\n",
    "            else:\n",
    "                print(\"\\tLine with Tag\", line[\"tag\"], \":\", line[\"data\"])"
   ]
  },
  {
   "cell_type": "markdown",
   "id": "58700859-4855-4265-b86d-8d1a77150e05",
   "metadata": {},
   "source": [
    "## Cache LRU test\n",
    "\n",
    "This cache replacement policy is deterministic and can therefore be tested easily. With a cache consisting of 4 sets with 2 lines per set, and a line size of 2, we can cache the addresses 0 and 9, which both go into set 0. Now, caching address 17 is not possible without applying the cache replacement policy, as both cache lines in set 0 are in use. Since 9 is the address we accessed the longest time ago, its cache line is replaced."
   ]
  },
  {
   "cell_type": "code",
   "execution_count": 2,
   "id": "184384d1-1687-4674-bc46-a99d25db8c7f",
   "metadata": {},
   "outputs": [
    {
     "name": "stdout",
     "output_type": "stream",
     "text": [
      "Set 0\n",
      "\tLine with Tag 0 : [0, None]\n",
      "\tLine with Tag 2 : [None, 17]\n",
      "Set 1\n",
      "\tLine not in use\n",
      "\tLine not in use\n",
      "Set 2\n",
      "\tLine not in use\n",
      "\tLine not in use\n",
      "Set 3\n",
      "\tLine not in use\n",
      "\tLine not in use\n"
     ]
    }
   ],
   "source": [
    "cache = CacheLRU(4, 2, 2)\n",
    "\n",
    "cache.write(0, 0)\n",
    "cache.write(9, 9)\n",
    "cache.read(0)\n",
    "cache.write(17, 17)\n",
    "print_cache(cache)"
   ]
  },
  {
   "cell_type": "markdown",
   "id": "b3fdaa02-7513-4c29-8b3d-061b70d4a241",
   "metadata": {},
   "source": [
    "Alternatively, we can change the order in which we write to the cache in our example above. This way, the cache line corresponding to the address 9 is replaced."
   ]
  },
  {
   "cell_type": "code",
   "execution_count": 3,
   "id": "f74428a7-dca1-4049-9e31-25672dc062cc",
   "metadata": {},
   "outputs": [
    {
     "name": "stdout",
     "output_type": "stream",
     "text": [
      "Set 0\n",
      "\tLine with Tag 2 : [None, 17]\n",
      "\tLine with Tag 1 : [None, 9]\n",
      "Set 1\n",
      "\tLine not in use\n",
      "\tLine not in use\n",
      "Set 2\n",
      "\tLine not in use\n",
      "\tLine not in use\n",
      "Set 3\n",
      "\tLine not in use\n",
      "\tLine not in use\n"
     ]
    }
   ],
   "source": [
    "cache = CacheLRU(4, 2, 2)\n",
    "\n",
    "cache.write(0, 0)\n",
    "cache.write(9, 9)\n",
    "cache.read(9)\n",
    "cache.write(17, 17)\n",
    "print_cache(cache)"
   ]
  },
  {
   "cell_type": "markdown",
   "id": "ead9a92d-7d75-468d-bc38-ea88944a6bf2",
   "metadata": {},
   "source": [
    "## Cache RR Test\n",
    "\n",
    "As this replacement policy is not deterministic, we can only predict in which set a cache line is replaced, but not exactly which one. Running the following cell multiple times should result in the value 17 to be written to a random cache line in set 0."
   ]
  },
  {
   "cell_type": "code",
   "execution_count": 7,
   "id": "a9e81b57-1d24-4d53-af61-833f43fc1e0d",
   "metadata": {},
   "outputs": [
    {
     "name": "stdout",
     "output_type": "stream",
     "text": [
      "Set 0\n",
      "\tLine with Tag 1 : [None, 9]\n",
      "\tLine with Tag 2 : [None, 17]\n",
      "Set 1\n",
      "\tLine not in use\n",
      "\tLine not in use\n",
      "Set 2\n",
      "\tLine not in use\n",
      "\tLine not in use\n",
      "Set 3\n",
      "\tLine not in use\n",
      "\tLine not in use\n"
     ]
    }
   ],
   "source": [
    "cache = CacheRR(4, 2, 2)\n",
    "\n",
    "cache.write(9, 9)\n",
    "cache.write(0, 0)\n",
    "cache.write(17, 17)\n",
    "print_cache(cache)"
   ]
  },
  {
   "cell_type": "markdown",
   "id": "46eeef4e-ac49-4432-95ad-cbe814583adf",
   "metadata": {},
   "source": [
    "## Cache FIFO Test\n",
    "\n",
    "TODO"
   ]
  }
 ],
 "metadata": {
  "kernelspec": {
   "display_name": "Python 3 (ipykernel)",
   "language": "python",
   "name": "python3"
  },
  "language_info": {
   "codemirror_mode": {
    "name": "ipython",
    "version": 3
   },
   "file_extension": ".py",
   "mimetype": "text/x-python",
   "name": "python",
   "nbconvert_exporter": "python",
   "pygments_lexer": "ipython3",
   "version": "3.9.2"
  }
 },
 "nbformat": 4,
 "nbformat_minor": 5
}
