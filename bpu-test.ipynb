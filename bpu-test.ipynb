{
 "cells": [
  {
   "cell_type": "code",
   "execution_count": 1,
   "metadata": {},
   "outputs": [
    {
     "name": "stdout",
     "output_type": "stream",
     "text": [
      "SimpleBPU:\n",
      "True\n",
      "True\n",
      "False\n",
      "False\n",
      "True\n"
     ]
    }
   ],
   "source": [
    "from bpu import SimpleBPU, BPU\n",
    "\n",
    "print(\"SimpleBPU:\")\n",
    "\n",
    "predictor = SimpleBPU()\n",
    "predictor.update(True)\n",
    "print(predictor.predict())\n",
    "predictor.update(False)\n",
    "print(predictor.predict())\n",
    "predictor.update(False)\n",
    "print(predictor.predict())\n",
    "predictor.update(True)\n",
    "print(predictor.predict())\n",
    "predictor.update(True)\n",
    "print(predictor.predict())"
   ]
  },
  {
   "cell_type": "code",
   "execution_count": 2,
   "metadata": {},
   "outputs": [
    {
     "name": "stdout",
     "output_type": "stream",
     "text": [
      "Adcanced BPU:\n",
      "True\n",
      "False\n",
      "False\n"
     ]
    }
   ],
   "source": [
    "print(\"Adcanced BPU:\")\n",
    "\n",
    "advanced_predictor = BPU()\n",
    "advanced_predictor.update(0, True)\n",
    "print(advanced_predictor.predict(0))\n",
    "advanced_predictor.update(1, False)\n",
    "print(advanced_predictor.predict(1))\n",
    "print(advanced_predictor.predict(17))"
   ]
  }
 ],
 "metadata": {
  "interpreter": {
   "hash": "4e1d9a8909477db77738c33245c29c7265277ef753467dede8cf3f814cde494e"
  },
  "kernelspec": {
   "display_name": "Python 3 (ipykernel)",
   "language": "python",
   "name": "python3"
  },
  "language_info": {
   "codemirror_mode": {
    "name": "ipython",
    "version": 3
   },
   "file_extension": ".py",
   "mimetype": "text/x-python",
   "name": "python",
   "nbconvert_exporter": "python",
   "pygments_lexer": "ipython3",
   "version": "3.9.2"
  }
 },
 "nbformat": 4,
 "nbformat_minor": 4
}
